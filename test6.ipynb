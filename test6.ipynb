{
 "cells": [
  {
   "cell_type": "code",
   "execution_count": 1,
   "metadata": {},
   "outputs": [],
   "source": [
    "# Base class Vehicle\n",
    "class Vehicle:\n",
    "    def __init__(self, brand, color):\n",
    "        self.brand = brand\n",
    "        self.color = color\n",
    "\n",
    "    def display_info(self):\n",
    "        print(f\"Brand: {self.brand}\")\n",
    "        print(f\"Color: {self.color}\")\n"
   ]
  },
  {
   "cell_type": "code",
   "execution_count": 2,
   "metadata": {},
   "outputs": [],
   "source": [
    "# Derived class Car inheriting from Vehicle\n",
    "class Car(Vehicle):\n",
    "    def __init__(self, brand, color, model):\n",
    "        # Call the constructor of the parent class (Vehicle)\n",
    "        super().__init__(brand, color)\n",
    "        self.model = model\n",
    "\n",
    "    # Override the display_info method to include the model\n",
    "    def display_info(self):\n",
    "        super().display_info()  # Call the parent class method\n",
    "        print(f\"Model: {self.model}\")\n"
   ]
  },
  {
   "cell_type": "code",
   "execution_count": 3,
   "metadata": {},
   "outputs": [
    {
     "name": "stdout",
     "output_type": "stream",
     "text": [
      "Vehicle Info:\n",
      "Brand: Toyota\n",
      "Color: Red\n",
      "\n",
      "\n",
      "Car Info:\n",
      "Brand: Honda\n",
      "Color: Blue\n",
      "Model: Civic\n"
     ]
    }
   ],
   "source": [
    "# Create an object of Vehicle\n",
    "vehicle = Vehicle(\"Toyota\", \"Red\")\n",
    "print(\"Vehicle Info:\")\n",
    "vehicle.display_info()\n",
    "\n",
    "print(\"\\n\")\n",
    "\n",
    "# Create an object of Car (derived class)\n",
    "car = Car(\"Honda\", \"Blue\", \"Civic\")\n",
    "print(\"Car Info:\")\n",
    "car.display_info()\n"
   ]
  },
  {
   "cell_type": "code",
   "execution_count": null,
   "metadata": {},
   "outputs": [],
   "source": []
  }
 ],
 "metadata": {
  "kernelspec": {
   "display_name": "Python 3",
   "language": "python",
   "name": "python3"
  },
  "language_info": {
   "codemirror_mode": {
    "name": "ipython",
    "version": 3
   },
   "file_extension": ".py",
   "mimetype": "text/x-python",
   "name": "python",
   "nbconvert_exporter": "python",
   "pygments_lexer": "ipython3",
   "version": "3.12.4"
  }
 },
 "nbformat": 4,
 "nbformat_minor": 2
}
