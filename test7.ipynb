{
 "cells": [
  {
   "cell_type": "code",
   "execution_count": 1,
   "metadata": {},
   "outputs": [],
   "source": [
    "# Class definition with encapsulation\n",
    "class Student:\n",
    "    def __init__(self, name, marks):\n",
    "        self.name = name\n",
    "        self.__marks = marks  # Private attribute\n",
    "    \n",
    "    # Getter method to access the private attribute __marks\n",
    "    def get_marks(self):\n",
    "        return self.__marks\n",
    "    \n",
    "    # Setter method to modify the private attribute __marks\n",
    "    def set_marks(self, marks):\n",
    "        if marks >= 0 and marks <= 100:  # Ensuring marks are within a valid range\n",
    "            self.__marks = marks\n",
    "        else:\n",
    "            print(\"Invalid marks! Marks should be between 0 and 100.\")\n",
    "    \n",
    "    # Method to display student information\n",
    "    def display_info(self):\n",
    "        print(f\"Name: {self.name}\")\n",
    "        print(f\"Marks: {self.__marks}\")\n"
   ]
  },
  {
   "cell_type": "code",
   "execution_count": 2,
   "metadata": {},
   "outputs": [
    {
     "name": "stdout",
     "output_type": "stream",
     "text": [
      "Name: John Doe\n",
      "Marks: 85\n",
      "Marks (via getter): 85\n",
      "Updated student info:\n",
      "Name: John Doe\n",
      "Marks: 90\n",
      "Invalid marks! Marks should be between 0 and 100.\n"
     ]
    }
   ],
   "source": [
    "# Create a Student object\n",
    "student = Student(\"John Doe\", 85)\n",
    "\n",
    "# Display student information\n",
    "student.display_info()\n",
    "\n",
    "# Access marks using the getter method\n",
    "print(f\"Marks (via getter): {student.get_marks()}\")\n",
    "\n",
    "# Try modifying marks using the setter method\n",
    "student.set_marks(90)  # Valid input\n",
    "print(\"Updated student info:\")\n",
    "student.display_info()\n",
    "\n",
    "# Try setting invalid marks (outside the valid range)\n",
    "student.set_marks(105)  # Invalid input\n"
   ]
  },
  {
   "cell_type": "code",
   "execution_count": null,
   "metadata": {},
   "outputs": [],
   "source": []
  }
 ],
 "metadata": {
  "kernelspec": {
   "display_name": "Python 3",
   "language": "python",
   "name": "python3"
  },
  "language_info": {
   "codemirror_mode": {
    "name": "ipython",
    "version": 3
   },
   "file_extension": ".py",
   "mimetype": "text/x-python",
   "name": "python",
   "nbconvert_exporter": "python",
   "pygments_lexer": "ipython3",
   "version": "3.12.4"
  }
 },
 "nbformat": 4,
 "nbformat_minor": 2
}
