{
 "cells": [
  {
   "cell_type": "code",
   "execution_count": 1,
   "metadata": {},
   "outputs": [],
   "source": [
    "# Class Father with some attributes\n",
    "class Father:\n",
    "    def __init__(self, name, age):\n",
    "        self.name = name  # Attribute for name\n",
    "        self.age = age    # Attribute for age\n",
    "    \n",
    "    def display_father_info(self):\n",
    "        print(f\"Father's Name: {self.name}\")\n",
    "        print(f\"Father's Age: {self.age}\")\n",
    "\n",
    "# Class Mother with some attributes\n",
    "class Mother:\n",
    "    def __init__(self, name, occupation):\n",
    "        self.name = name        # Attribute for name\n",
    "        self.occupation = occupation  # Attribute for occupation\n",
    "    \n",
    "    def display_mother_info(self):\n",
    "        print(f\"Mother's Name: {self.name}\")\n",
    "        print(f\"Mother's Occupation: {self.occupation}\")\n"
   ]
  },
  {
   "cell_type": "code",
   "execution_count": 2,
   "metadata": {},
   "outputs": [],
   "source": [
    "# Class Child inheriting from both Father and Mother\n",
    "class Child(Father, Mother):\n",
    "    def __init__(self, father_name, father_age, mother_name, mother_occupation, child_name):\n",
    "        # Initialize attributes of both Father and Mother using their constructors\n",
    "        Father.__init__(self, father_name, father_age)\n",
    "        Mother.__init__(self, mother_name, mother_occupation)\n",
    "        self.child_name = child_name  # Additional attribute for child name\n",
    "\n",
    "    def display_child_info(self):\n",
    "        print(f\"Child's Name: {self.child_name}\")\n",
    "        # Accessing attributes and methods from Father and Mother\n",
    "        self.display_father_info()\n",
    "        self.display_mother_info()\n"
   ]
  },
  {
   "cell_type": "code",
   "execution_count": 3,
   "metadata": {},
   "outputs": [
    {
     "name": "stdout",
     "output_type": "stream",
     "text": [
      "Child's Name: Alice\n",
      "Father's Name: Jane\n",
      "Father's Age: 45\n",
      "Mother's Name: Jane\n",
      "Mother's Occupation: Doctor\n"
     ]
    }
   ],
   "source": [
    "# Create a Child object, passing in attributes for Father and Mother\n",
    "child = Child(father_name=\"John\", father_age=45, mother_name=\"Jane\", mother_occupation=\"Doctor\", child_name=\"Alice\")\n",
    "\n",
    "# Display the child's information, which also includes the parent's info\n",
    "child.display_child_info()\n"
   ]
  },
  {
   "cell_type": "code",
   "execution_count": null,
   "metadata": {},
   "outputs": [],
   "source": []
  }
 ],
 "metadata": {
  "kernelspec": {
   "display_name": "Python 3",
   "language": "python",
   "name": "python3"
  },
  "language_info": {
   "codemirror_mode": {
    "name": "ipython",
    "version": 3
   },
   "file_extension": ".py",
   "mimetype": "text/x-python",
   "name": "python",
   "nbconvert_exporter": "python",
   "pygments_lexer": "ipython3",
   "version": "3.12.4"
  }
 },
 "nbformat": 4,
 "nbformat_minor": 2
}
